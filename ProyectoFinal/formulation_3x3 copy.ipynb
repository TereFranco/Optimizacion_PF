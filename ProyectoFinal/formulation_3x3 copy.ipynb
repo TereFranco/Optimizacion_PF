{
 "cells": [
  {
   "cell_type": "markdown",
   "metadata": {},
   "source": [
    "### Importing packages and modules"
   ]
  },
  {
   "cell_type": "code",
   "execution_count": 64,
   "metadata": {},
   "outputs": [],
   "source": [
    "# module for building the pyomo model\n",
    "import pyomo.environ as pe\n",
    "# module for solving the pyomo model\n",
    "import pyomo.opt as po"
   ]
  },
  {
   "cell_type": "markdown",
   "metadata": {},
   "source": [
    "### Create the model"
   ]
  },
  {
   "cell_type": "code",
   "execution_count": 65,
   "metadata": {},
   "outputs": [],
   "source": [
    "model = pe.ConcreteModel()"
   ]
  },
  {
   "cell_type": "markdown",
   "metadata": {},
   "source": [
    "Order to build the model:\n",
    "1. Sets\n",
    "1. Parameters\n",
    "1. Variables\n",
    "1. Objective function\n",
    "1. Constraints"
   ]
  },
  {
   "cell_type": "markdown",
   "metadata": {},
   "source": [
    "#### Sets\n",
    "\n",
    "$i$: filas de la malla = {1,2,...,N_FIL}\n",
    "\n",
    "$𝑗$: columnas de la malla = {1,2,...,N_COL}\n",
    "\n",
    "$k$: conjunto de camiones disponibles = {1,2,...,NC}\n"
   ]
  },
  {
   "cell_type": "code",
   "execution_count": 66,
   "metadata": {},
   "outputs": [],
   "source": [
    "N_FIL = 3  \n",
    "N_COL = 3\n",
    "MAX_STEPS = 2 * N_FIL * N_COL\n",
    "# N_TRUCKS = 2"
   ]
  },
  {
   "cell_type": "code",
   "execution_count": 67,
   "metadata": {},
   "outputs": [],
   "source": [
    "model.row = pe.Set(initialize=[i for i in range(N_FIL)])\n",
    "model.column = pe.Set(initialize=[j for j in range(N_COL)])\n",
    "# model.truck = pe.Set(initialize=[k for k in range(N_TRUCKS)])\n",
    "model.step = pe.Set(initialize=[i for i in range(MAX_STEPS)])"
   ]
  },
  {
   "cell_type": "markdown",
   "metadata": {},
   "source": [
    "#### Parameters"
   ]
  },
  {
   "cell_type": "code",
   "execution_count": 68,
   "metadata": {},
   "outputs": [],
   "source": [
    "ND = 1 # Numero de depositos\n",
    "T = 3 # Tiempo traslado nodo-nodo\n",
    "model.time = pe.Param(initialize = T)"
   ]
  },
  {
   "cell_type": "code",
   "execution_count": 69,
   "metadata": {},
   "outputs": [],
   "source": [
    "malla_vacia = {}\n",
    "\n",
    "# Iterar sobre las filas y columnas de la matriz 10x10\n",
    "for i in range(N_FIL):\n",
    "    for j in range(N_COL):\n",
    "        malla_vacia[(i, j)] = 0"
   ]
  },
  {
   "cell_type": "markdown",
   "metadata": {},
   "source": [
    "$CP(i,j)$: Cantidad de basura que hay en la parada regular en (i,j)"
   ]
  },
  {
   "cell_type": "code",
   "execution_count": 70,
   "metadata": {},
   "outputs": [],
   "source": [
    "# Total 10 kilos\n",
    "dirt_regular_stops = malla_vacia\n",
    "stop_position_1 = (2,1)\n",
    "dirt_regular_stops[stop_position_1] = 7\n",
    "stop_position_2 = (2,2)\n",
    "dirt_regular_stops[stop_position_2] = 3\n",
    "\n",
    "model.dirt_regular_stops = pe.Param(model.row, model.column, initialize = dirt_regular_stops)"
   ]
  },
  {
   "cell_type": "markdown",
   "metadata": {},
   "source": [
    "$D(i,j)$: Depósito en (i,j)"
   ]
  },
  {
   "cell_type": "code",
   "execution_count": 71,
   "metadata": {},
   "outputs": [],
   "source": [
    "deposit = malla_vacia\n",
    "deposit_position = (0,0)\n",
    "deposit[deposit_position] = 1\n",
    "\n",
    "model.deposit = pe.Param(model.row, model.column, initialize = deposit)"
   ]
  },
  {
   "cell_type": "markdown",
   "metadata": {},
   "source": [
    "$C_k$: capacidad del vehículo k"
   ]
  },
  {
   "cell_type": "code",
   "execution_count": 72,
   "metadata": {},
   "outputs": [],
   "source": [
    "capacity = 10.0\n",
    "\n",
    "model.capacity = pe.Param(initialize = capacity)"
   ]
  },
  {
   "cell_type": "markdown",
   "metadata": {},
   "source": [
    "#### Variables\n",
    "\n"
   ]
  },
  {
   "cell_type": "code",
   "execution_count": 73,
   "metadata": {},
   "outputs": [],
   "source": [
    "# Recorrido del camion, unos y ceros para ver por donde pasa\n",
    "model.r = pe.Var(model.row, model.column, model.step, within = pe.Binary)\n",
    "\n",
    "# Cantidad de basura del camion\n",
    "model.b = pe.Var(model.step, within = pe.NonNegativeReals)\n",
    "\n",
    "# Variable binaria que indica si toda la basura ha sido recogida\n",
    "model.all_dirt_collected = pe.Var(model.step, within=pe.Binary)\n",
    "\n",
    "# Numero de pasos que se recorre para volver al deposito\n",
    "model.return_step = pe.Var(within=pe.NonNegativeIntegers, bounds=(0, MAX_STEPS))\n",
    "\n",
    "# Marcar si la basura de una celda ha sido recogida en cada paso\n",
    "model.is_collected = pe.Var(model.row, model.column, model.step, domain=pe.Binary)"
   ]
  },
  {
   "cell_type": "markdown",
   "metadata": {},
   "source": [
    "#### Objective Function\n"
   ]
  },
  {
   "cell_type": "code",
   "execution_count": 74,
   "metadata": {},
   "outputs": [],
   "source": [
    "# Función objetivo: Minimizar los pasos de vuelta , y teniendo en cuenta llegar lo antes posible a\n",
    "# de vuelta al deposito, y recogiendo toda la basura, ya que al deposito solo se puede pasar dos\n",
    "# veces y solo se puede pasar la segunda vez una vez recogida toda la basura\n",
    "\n",
    "model.obj = pe.Objective(\n",
    "    expr=model.return_step, \n",
    "    sense=pe.minimize\n",
    ")"
   ]
  },
  {
   "cell_type": "markdown",
   "metadata": {},
   "source": [
    "#### Constraints"
   ]
  },
  {
   "cell_type": "code",
   "execution_count": 75,
   "metadata": {},
   "outputs": [],
   "source": [
    "# HE CAMBIADO LA RESTRICCIÓN 3 Y AÑADIDO LA 11\n",
    "\n",
    "# Elimina restricciones previas\n",
    "model.del_component('constraints')\n",
    "model.constraints = pe.ConstraintList()\n",
    "\n",
    "# 1. El camión empieza en el depósito\n",
    "model.constraints.add(model.r[deposit_position[0], deposit_position[1], 0] == 1)\n",
    "\n",
    "# 2. Restricción de movimiento Manhattan (movimientos solo a celdas adyacentes)\n",
    "for s in model.step:\n",
    "    for i in model.row:\n",
    "        for j in model.column:\n",
    "            if s > 0:\n",
    "                model.constraints.add(\n",
    "                    model.r[i, j, s] <= \n",
    "                    (model.r[i-1, j, s-1] if i > 0 else 0) +  # Arriba\n",
    "                    (model.r[i+1, j, s-1] if i < N_FIL - 1 else 0) +  # Abajo\n",
    "                    (model.r[i, j-1, s-1] if j > 0 else 0) +  # Izquierda\n",
    "                    (model.r[i, j+1, s-1] if j < N_COL - 1 else 0)  # Derecha\n",
    "                )\n",
    "\n",
    "# 3. Restricción de una sola celda ocupada en cada paso de tiempo\n",
    "for s in model.step:\n",
    "    model.constraints.add(\n",
    "        sum(model.r[i, j, s] for i in model.row for j in model.column) <= 1\n",
    "    )\n",
    "\n",
    "# 4. Restricción de capacidad del camión\n",
    "for s in model.step:\n",
    "    model.constraints.add(\n",
    "        sum(model.dirt_regular_stops[i, j] * model.r[i, j, s] for i in model.row for j in model.column) <= model.capacity\n",
    "    )\n",
    "\n",
    "# 5. Restricción para actualizar la carga del camión al recoger basura\n",
    "# Restringir que la carga solo se acumule la primera vez que se visita una celda de basura\n",
    "for s in model.step:\n",
    "    if s > 0:\n",
    "        model.constraints.add(\n",
    "            model.b[s] == model.b[s-1] + sum(\n",
    "                model.dirt_regular_stops[i, j] * model.r[i, j, s] * (1 - model.is_collected[i, j, s-1])\n",
    "                for i in model.row for j in model.column\n",
    "            )\n",
    "        )\n",
    "    else:\n",
    "        model.constraints.add(model.b[s] == 0)  # Inicialmente vacío\n",
    "\n",
    "# 6. Restricción para garantizar que una celda de basura solo se marque como recolectada una vez\n",
    "for s in model.step:\n",
    "    for i in model.row:\n",
    "        for j in model.column:\n",
    "            if s > 0:\n",
    "                # is_collected se activa solo si la celda es visitada\n",
    "                model.constraints.add(\n",
    "                    model.is_collected[i, j, s] >= model.r[i, j, s]\n",
    "                )\n",
    "                # Una vez activado, se mantiene en pasos posteriores\n",
    "                model.constraints.add(\n",
    "                    model.is_collected[i, j, s] >= model.is_collected[i, j, s-1]\n",
    "                )\n",
    "\n",
    "# 7. Activar 'all_dirt_collected' cuando toda la basura ha sido recogida\n",
    "BIG_M = 10000  \n",
    "small_m = 1*10**-4\n",
    "\n",
    "# Puede ser 0 o 1 si es 0\n",
    "# Es 0 si es != 0\n",
    "for s in model.step:\n",
    "    model.constraints.add(\n",
    "        BIG_M * (1 - model.all_dirt_collected[s]) >= sum(model.dirt_regular_stops[i, j] for i in model.row for j in model.column) - model.b[s]\n",
    "    )\n",
    "\n",
    "# Es 1 si es 0\n",
    "# Puede ser 0 o 1 si es != 0 s\n",
    "for s in model.step:\n",
    "    model.constraints.add(\n",
    "        small_m * (1 - model.all_dirt_collected[s]) <= sum(model.dirt_regular_stops[i, j] for i in model.row for j in model.column) - model.b[s]\n",
    "    )\n",
    "\n",
    "# 8. El deposito solo se puede visitar dos veces\n",
    "model.constraints.add(\n",
    "    sum(model.r[deposit_position[0], deposit_position[1], s] for s in model.step) == 2\n",
    ")\n",
    "\n",
    "# 9. Restricción para garantizar que la segunda visita al depósito solo sea después de haber recogido toda la basura\n",
    "for s in model.step:\n",
    "    if s > 0:\n",
    "        model.constraints.add(\n",
    "            model.r[deposit_position[0], deposit_position[1], s] <= model.all_dirt_collected[s]\n",
    "        )\n",
    "        \n",
    "# 10. Minimización del numero de pasos de vuelta al deposito\n",
    "model.constraints.add(\n",
    "    model.return_step == sum(s * model.r[deposit_position[0], deposit_position[1], s] for s in model.step)\n",
    ")\n",
    "\n",
    "# 11. Condición de parada. Para cada step después de haber recogido toda la basura, el camión ya no está en el mapa\n",
    "for i in model.row:\n",
    "    for j in model.column:\n",
    "        for s in model.step:\n",
    "            if s > 0:\n",
    "                model.constraints.add(\n",
    "                    model.r[i, j, s] <= (1 - model.r[deposit_position[0], deposit_position[1], s])  # Fuerza r[i, j, s] = 0 si hemos vuelto al depósito\n",
    "                )\n"
   ]
  },
  {
   "cell_type": "code",
   "execution_count": 76,
   "metadata": {},
   "outputs": [
    {
     "name": "stdout",
     "output_type": "stream",
     "text": [
      "Set parameter Username\n",
      "Academic license - for non-commercial use only - expires 2025-09-14\n",
      "Read LP format model from file C:\\Users\\sofin\\AppData\\Local\\Temp\\tmpjs9b3f_z.pyomo.lp\n",
      "Reading time = 0.03 seconds\n",
      "x1: 705 rows, 361 columns, 1804 nonzeros\n",
      "Gurobi Optimizer version 11.0.3 build v11.0.3rc0 (win64 - Windows 11.0 (22631.2))\n",
      "\n",
      "CPU model: Intel(R) Core(TM) i5-8250U CPU @ 1.60GHz, instruction set [SSE2|AVX|AVX2]\n",
      "Thread count: 4 physical cores, 8 logical processors, using up to 8 threads\n",
      "\n",
      "Optimize a model with 705 rows, 361 columns and 1804 nonzeros\n",
      "Model fingerprint: 0x8ac348cd\n",
      "Model has 17 quadratic constraints\n",
      "Variable types: 18 continuous, 343 integer (342 binary)\n",
      "Coefficient statistics:\n",
      "  Matrix range     [1e-04, 1e+04]\n",
      "  QMatrix range    [3e+00, 7e+00]\n",
      "  QLMatrix range   [1e+00, 7e+00]\n",
      "  Objective range  [1e+00, 1e+00]\n",
      "  Bounds range     [1e+00, 2e+01]\n",
      "  RHS range        [1e+00, 1e+04]\n",
      "Presolve removed 77 rows and 58 columns\n",
      "Presolve time: 0.00s\n",
      "\n",
      "Explored 0 nodes (0 simplex iterations) in 0.00 seconds (0.00 work units)\n",
      "Thread count was 1 (of 8 available processors)\n",
      "\n",
      "Solution count 0\n",
      "\n",
      "Model is infeasible\n",
      "Best objective -, best bound -, gap -\n",
      "WARNING: Loading a SolverResults object with a warning status into\n",
      "model.name=\"unknown\";\n",
      "    - termination condition: infeasible\n",
      "    - message from solver: Model was proven to be infeasible.\n"
     ]
    }
   ],
   "source": [
    "solver = po.SolverFactory('gurobi')\n",
    "results = solver.solve (model, tee=True)"
   ]
  },
  {
   "cell_type": "code",
   "execution_count": 77,
   "metadata": {},
   "outputs": [
    {
     "name": "stdout",
     "output_type": "stream",
     "text": [
      "ERROR: evaluating object as numeric value: r[0,0,0]\n",
      "        (object: <class 'pyomo.core.base.var.VarData'>)\n",
      "    No value for uninitialized NumericValue object r[0,0,0]\n"
     ]
    },
    {
     "ename": "ValueError",
     "evalue": "No value for uninitialized NumericValue object r[0,0,0]",
     "output_type": "error",
     "traceback": [
      "\u001b[1;31m---------------------------------------------------------------------------\u001b[0m",
      "\u001b[1;31mValueError\u001b[0m                                Traceback (most recent call last)",
      "Cell \u001b[1;32mIn[77], line 9\u001b[0m\n\u001b[0;32m      7\u001b[0m     \u001b[38;5;28;01mfor\u001b[39;00m i \u001b[38;5;129;01min\u001b[39;00m model\u001b[38;5;241m.\u001b[39mrow:\n\u001b[0;32m      8\u001b[0m         \u001b[38;5;28;01mfor\u001b[39;00m j \u001b[38;5;129;01min\u001b[39;00m model\u001b[38;5;241m.\u001b[39mcolumn:\n\u001b[1;32m----> 9\u001b[0m             \u001b[38;5;28;01mif\u001b[39;00m pe\u001b[38;5;241m.\u001b[39mvalue(model\u001b[38;5;241m.\u001b[39mr[i, j, s]) \u001b[38;5;241m>\u001b[39m \u001b[38;5;241m0.5\u001b[39m:  \u001b[38;5;66;03m# Comprobamos si la variable es 1\u001b[39;00m\n\u001b[0;32m     10\u001b[0m                 ruta\u001b[38;5;241m.\u001b[39mappend((i, j, s))\n\u001b[0;32m     12\u001b[0m \u001b[38;5;66;03m# Mostrar la ruta\u001b[39;00m\n",
      "File \u001b[1;32mc:\\Users\\sofin\\anaconda3\\Lib\\site-packages\\pyomo\\common\\numeric_types.py:384\u001b[0m, in \u001b[0;36mvalue\u001b[1;34m(obj, exception)\u001b[0m\n\u001b[0;32m    382\u001b[0m     tmp \u001b[38;5;241m=\u001b[39m obj(exception\u001b[38;5;241m=\u001b[39m\u001b[38;5;28;01mTrue\u001b[39;00m)\n\u001b[0;32m    383\u001b[0m     \u001b[38;5;28;01mif\u001b[39;00m tmp \u001b[38;5;129;01mis\u001b[39;00m \u001b[38;5;28;01mNone\u001b[39;00m:\n\u001b[1;32m--> 384\u001b[0m         \u001b[38;5;28;01mraise\u001b[39;00m \u001b[38;5;167;01mValueError\u001b[39;00m(\n\u001b[0;32m    385\u001b[0m             \u001b[38;5;124m\"\u001b[39m\u001b[38;5;124mNo value for uninitialized NumericValue object \u001b[39m\u001b[38;5;132;01m%s\u001b[39;00m\u001b[38;5;124m\"\u001b[39m \u001b[38;5;241m%\u001b[39m (obj\u001b[38;5;241m.\u001b[39mname,)\n\u001b[0;32m    386\u001b[0m         )\n\u001b[0;32m    387\u001b[0m     \u001b[38;5;28;01mreturn\u001b[39;00m tmp\n\u001b[0;32m    388\u001b[0m \u001b[38;5;28;01mexcept\u001b[39;00m TemplateExpressionError:\n\u001b[0;32m    389\u001b[0m     \u001b[38;5;66;03m# Template expressions work by catching this error type. So\u001b[39;00m\n\u001b[0;32m    390\u001b[0m     \u001b[38;5;66;03m# we should defer this error handling and not log an error\u001b[39;00m\n\u001b[0;32m    391\u001b[0m     \u001b[38;5;66;03m# message.\u001b[39;00m\n",
      "\u001b[1;31mValueError\u001b[0m: No value for uninitialized NumericValue object r[0,0,0]"
     ]
    }
   ],
   "source": [
    "# Extraer la ruta desde model.r\n",
    "ruta = []\n",
    "\n",
    "# Iterar sobre cada camión, cada celda y cada paso (si aplica)\n",
    "# for s in range(int(model.return_step.value) + 1):\n",
    "for s in range(MAX_STEPS):\n",
    "    for i in model.row:\n",
    "        for j in model.column:\n",
    "            if pe.value(model.r[i, j, s]) > 0.5:  # Comprobamos si la variable es 1\n",
    "                ruta.append((i, j, s))\n",
    "\n",
    "# Mostrar la ruta\n",
    "print(\"Ruta del camión:\")\n",
    "contador = 0\n",
    "for punto in ruta:\n",
    "    print(f\"Paso {punto[2]} : Camión en celda {punto[0], punto[1]} con una cantidad de basura: {model.b[punto[2]].value}\")"
   ]
  },
  {
   "cell_type": "code",
   "execution_count": 33,
   "metadata": {},
   "outputs": [
    {
     "name": "stdout",
     "output_type": "stream",
     "text": [
      "Recorrido del camión paso a paso:\n",
      "\n",
      "+---+---+---+\n",
      "| \u001b[31mX\u001b[0m |   |   |\n",
      "+---+---+---+\n",
      "|   |   |   |\n",
      "+---+---+---+\n",
      "|   | \u001b[32m7\u001b[0m | \u001b[32m3\u001b[0m |\n",
      "+---+---+---+\n",
      "\n",
      "+---+---+---+\n",
      "| \u001b[36mX\u001b[0m |   |   |\n",
      "+---+---+---+\n",
      "| \u001b[31mX\u001b[0m |   |   |\n",
      "+---+---+---+\n",
      "|   | \u001b[32m7\u001b[0m | \u001b[32m3\u001b[0m |\n",
      "+---+---+---+\n",
      "\n",
      "+---+---+---+\n",
      "| \u001b[36mX\u001b[0m |   |   |\n",
      "+---+---+---+\n",
      "| \u001b[36mX\u001b[0m | \u001b[31mX\u001b[0m |   |\n",
      "+---+---+---+\n",
      "|   | \u001b[32m7\u001b[0m | \u001b[32m3\u001b[0m |\n",
      "+---+---+---+\n",
      "\n",
      "+---+---+---+\n",
      "| \u001b[36mX\u001b[0m |   |   |\n",
      "+---+---+---+\n",
      "| \u001b[36mX\u001b[0m | \u001b[36mX\u001b[0m |   |\n",
      "+---+---+---+\n",
      "|   | \u001b[31mX\u001b[0m | \u001b[32m3\u001b[0m |\n",
      "+---+---+---+\n",
      "\n",
      "+---+---+---+\n",
      "| \u001b[36mX\u001b[0m |   |   |\n",
      "+---+---+---+\n",
      "| \u001b[36mX\u001b[0m | \u001b[36mX\u001b[0m |   |\n",
      "+---+---+---+\n",
      "|   | \u001b[36mX\u001b[0m | \u001b[31mX\u001b[0m |\n",
      "+---+---+---+\n",
      "\n",
      "+---+---+---+\n",
      "| \u001b[36mX\u001b[0m |   |   |\n",
      "+---+---+---+\n",
      "| \u001b[36mX\u001b[0m | \u001b[36mX\u001b[0m | \u001b[31mX\u001b[0m |\n",
      "+---+---+---+\n",
      "|   | \u001b[36mX\u001b[0m | \u001b[36mX\u001b[0m |\n",
      "+---+---+---+\n",
      "\n",
      "+---+---+---+\n",
      "| \u001b[36mX\u001b[0m |   |   |\n",
      "+---+---+---+\n",
      "| \u001b[36mX\u001b[0m | \u001b[31mX\u001b[0m | \u001b[36mX\u001b[0m |\n",
      "+---+---+---+\n",
      "|   | \u001b[36mX\u001b[0m | \u001b[36mX\u001b[0m |\n",
      "+---+---+---+\n",
      "\n",
      "+---+---+---+\n",
      "| \u001b[36mX\u001b[0m | \u001b[31mX\u001b[0m |   |\n",
      "+---+---+---+\n",
      "| \u001b[36mX\u001b[0m | \u001b[36mX\u001b[0m | \u001b[36mX\u001b[0m |\n",
      "+---+---+---+\n",
      "|   | \u001b[36mX\u001b[0m | \u001b[36mX\u001b[0m |\n",
      "+---+---+---+\n",
      "\n",
      "+---+---+---+\n",
      "| \u001b[31mX\u001b[0m | \u001b[36mX\u001b[0m |   |\n",
      "+---+---+---+\n",
      "| \u001b[36mX\u001b[0m | \u001b[36mX\u001b[0m | \u001b[36mX\u001b[0m |\n",
      "+---+---+---+\n",
      "|   | \u001b[36mX\u001b[0m | \u001b[36mX\u001b[0m |\n",
      "+---+---+---+\n",
      "\n"
     ]
    }
   ],
   "source": [
    "import time  \n",
    "\n",
    "# Colores ANSI\n",
    "RESET = \"\\033[0m\"\n",
    "RED = \"\\033[31m\"  # Rojo para el paso actual\n",
    "CYAN = \"\\033[36m\"  # Cian para celdas previamente visitadas\n",
    "GREEN = \"\\033[32m\"  # Verde para celdas con basura\n",
    "\n",
    "# Matriz con celdas vacías y cantidades de basura\n",
    "matriz = [[f\"{GREEN}{model.dirt_regular_stops[i, j]}{RESET}\" if model.dirt_regular_stops[i, j] > 0 else \" \" \n",
    "           for j in range(N_COL)] \n",
    "          for i in range(N_FIL)]\n",
    "\n",
    "print(\"Recorrido del camión paso a paso:\\n\")\n",
    "\n",
    "# Lista para guardar las celdas visitadas\n",
    "visitadas = [[False for _ in range(N_COL)] for _ in range(N_FIL)]\n",
    "\n",
    "# Recorrido del camión paso por paso\n",
    "for s in range(int(model.return_step.value) + 1):\n",
    "    # Crear una copia para marcar el paso actual sin modificar la matriz original\n",
    "    matriz_temp = [fila.copy() for fila in matriz]\n",
    "\n",
    "    # Buscar la celda visitada en este paso\n",
    "    for i in model.row:\n",
    "        for j in model.column:\n",
    "            if model.r[i, j, s].value == 1:\n",
    "                matriz_temp[i][j] = f\"{RED}X{RESET}\"  # Marcar la celda actual en rojo\n",
    "                visitadas[i][j] = True  # Marcar la celda como visitada\n",
    "\n",
    "    # Actualizar celdas previamente visitadas a cian\n",
    "    for i in range(N_FIL):\n",
    "        for j in range(N_COL):\n",
    "            if visitadas[i][j] and matriz_temp[i][j] != f\"{RED}X{RESET}\":  \n",
    "                matriz_temp[i][j] = f\"{CYAN}X{RESET}\"\n",
    "\n",
    "    # Mostrar la matriz actualizada\n",
    "    for fila in matriz_temp:\n",
    "        print(\"+---\" * N_COL + \"+\")\n",
    "        print(\"| \" + \" | \".join(fila) + \" |\")\n",
    "    print(\"+---\" * N_COL + \"+\\n\")\n",
    "    \n",
    "    # Esperar antes de continuar al siguiente paso\n",
    "    time.sleep(0.5) "
   ]
  },
  {
   "cell_type": "code",
   "execution_count": null,
   "metadata": {},
   "outputs": [],
   "source": []
  }
 ],
 "metadata": {
  "kernelspec": {
   "display_name": "base",
   "language": "python",
   "name": "python3"
  },
  "language_info": {
   "codemirror_mode": {
    "name": "ipython",
    "version": 3
   },
   "file_extension": ".py",
   "mimetype": "text/x-python",
   "name": "python",
   "nbconvert_exporter": "python",
   "pygments_lexer": "ipython3",
   "version": "3.12.4"
  }
 },
 "nbformat": 4,
 "nbformat_minor": 4
}
